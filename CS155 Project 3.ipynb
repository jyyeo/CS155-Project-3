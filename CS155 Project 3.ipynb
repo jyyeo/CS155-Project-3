{
 "cells": [
  {
   "cell_type": "code",
   "execution_count": 207,
   "metadata": {},
   "outputs": [],
   "source": [
    "import os\n",
    "import numpy as np\n",
    "from IPython.display import HTML\n",
    "import string"
   ]
  },
  {
   "cell_type": "code",
   "execution_count": 208,
   "metadata": {},
   "outputs": [],
   "source": [
    "text = open(os.path.join(os.getcwd(), 'data/shakespeare.txt')).read()"
   ]
  },
  {
   "cell_type": "markdown",
   "metadata": {},
   "source": [
    "Pre-processing"
   ]
  },
  {
   "cell_type": "code",
   "execution_count": 219,
   "metadata": {},
   "outputs": [
    {
     "name": "stdout",
     "output_type": "stream",
     "text": [
      "['  pity the world, or else this glutton be,', \"  to eat the world's due, by the grave and thee.\", '  this were to be new made when thou art old,', \"  and see thy blood warm when thou feel'st it cold.\", '  but if thou live remembered not to be,', '  die single and thine image dies with thee.', '  thy unused beauty must be tombed with thee,', \"  which used lives th' executor to be.\", '  but flowers distilled though they with winter meet,', '  leese but their show, their substance still lives sweet.', '  be not self-willed for thou art much too fair,', \"  to be death's conquest and make worms thine heir.\", '  so thou, thy self out-going in thy noon:', '  unlooked on diest unless thou get a son.', '  whose speechless song being many, seeming one,', \"  sings this to thee, 'thou single wilt prove none'.\", '  no love toward others in that bosom sits', \"  that on himself such murd'rous shame commits.\", '  make thee another self for love of me,', '  that beauty still may live in thine or thee.', '  she carved thee for her seal, and meant thereby,', '  thou shouldst print more, not let that copy die.', \"  and nothing 'gainst time's scythe can make defence\", '  save breed to brave him, when he takes thee hence.', '  o none but unthrifts, dear my love you know,', '  you had a father, let your son say so.', '  or else of thee this i prognosticate,', \"  thy end is truth's and beauty's doom and date.\", '  and all in war with time for love of you,', '  as he takes from you, i engraft you new.', '  to give away your self, keeps your self still,', '  and you must live drawn by your own sweet skill.', '  but were some child of yours alive that time,', '  you should live twice in it, and in my rhyme.', '  so long as men can breathe or eyes can see,', '  so long lives this, and this gives life to thee.', '  yet do thy worst old time: despite thy wrong,', '  my love shall in my verse ever live young.', \"  but since she pricked thee out for women's pleasure,\", \"  mine be thy love and thy love's use their treasure.\", '  let them say more that like of hearsay well,', '  i will not praise that purpose not to sell.', '  presume not on thy heart when mine is slain,', \"  thou gav'st me thine not to give back again.\", '  o learn to read what silent love hath writ,', \"  to hear with eyes belongs to love's fine wit.\", '  yet eyes this cunning want to grace their art,', '  they draw but what they see, know not the heart.', '  then happy i that love and am beloved', '  where i may not remove nor be removed.', '  then may i dare to boast how i do love thee,', '  till then, not show my head where thou mayst prove me.', '  lo thus by day my limbs, by night my mind,', '  for thee, and for my self, no quiet find.', '  but day doth daily draw my sorrows longer,', \"  and night doth nightly make grief's length seem stronger\", '  for thy sweet love remembered such wealth brings,', '  that then i scorn to change my state with kings.', '  but if the while i think on thee (dear friend)', '  all losses are restored, and sorrows end.', '  their images i loved, i view in thee,', '  and thou (all they) hast all the all of me.', '  but since he died and poets better prove,', \"  theirs for their style i'll read, his for his love'.\", '  yet him for this, my love no whit disdaineth,', \"  suns of the world may stain, when heaven's sun staineth.\", '  ah but those tears are pearl which thy love sheds,', '  and they are rich, and ransom all ill deeds.', '  that i an accessary needs must be,', '  to that sweet thief which sourly robs from me.', '  but do not so, i love thee in such sort,', '  as thou being mine, mine is thy good report.', '  look what is best, that best i wish in thee,', '  this wish i have, then ten times happy me.', '  if my slight muse do please these curious days,', '  the pain be mine, but thine shall be the praise.', '  and that thou teachest how to make one twain,', '  by praising him here who doth hence remain.', '  lascivious grace, in whom all ill well shows,', '  kill me with spites yet we must not be foes.', '  hers by thy beauty tempting her to thee,', '  thine by thy beauty being false to me.', \"  but here's the joy, my friend and i are one,\", '  sweet flattery, then she loves but me alone.', '  all days are nights to see till i see thee,', '  and nights bright days when dreams do show thee me.', '  receiving nought by elements so slow,', \"  but heavy tears, badges of either's woe.\", '  this told, i joy, but then no longer glad,', '  i send them back again and straight grow sad.', \"  as thus, mine eye's due is thy outward part,\", \"  and my heart's right, thy inward love of heart.\", '  or if they sleep, thy picture in my sight', \"  awakes my heart, to heart's and eye's delight.\", \"  and even thence thou wilt be stol'n i fear,\", '  for truth proves thievish for a prize so dear.', '  to leave poor me, thou hast the strength of laws,', '  since why to love, i can allege no cause.', '  for that same groan doth put this in my mind,', '  my grief lies onward and my joy behind.', '  since from thee going, he went wilful-slow,', \"  towards thee i'll run, and give him leave to go.\", '  blessed are you whose worthiness gives scope,', '  being had to triumph, being lacked to hope.', '  in all external grace you have some part,', '  but you like none, none you for constant heart.', '  and so of you, beauteous and lovely youth,', '  when that shall fade, my verse distills your truth.', '  so till the judgment that your self arise,', \"  you live in this, and dwell in lovers' eyes.\", '  or call it winter, which being full of care,', \"  makes summer's welcome, thrice more wished, more rare.\", '  so true a fool is love, that in your will,', '  (though you do any thing) he thinks no ill.', '  i am to wait, though waiting so be hell,', '  not blame your pleasure be it ill or well.', '  o sure i am the wits of former days,', '  to subjects worse have given admiring praise.', '  and yet to times in hope, my verse shall stand', '  praising thy worth, despite his cruel hand.', '  for thee watch i, whilst thou dost wake elsewhere,', '  from me far off, with others all too near.', \"  'tis thee (my self) that for my self i praise,\", '  painting my age with beauty of thy days.', '  his beauty shall in these black lines be seen,', '  and they shall live, and he in them still green.', '  this thought is as a death which cannot choose', '  but weep to have, that which it fears to lose.', '  o none, unless this miracle have might,', '  that in black ink my love may still shine bright.', '  tired with all these, from these would i be gone,', '  save that to die, i leave my love alone.', '  o him she stores, to show what wealth she had,', '  in days long since, before these last so bad.', '  and him as for a map doth nature store,', '  to show false art what beauty was of yore.', '  but why thy odour matcheth not thy show,', '  the soil is this, that thou dost common grow.', '  if some suspect of ill masked not thy show,', '  then thou alone kingdoms of hearts shouldst owe.', '  lest the wise world should look into your moan,', '  and mock you with me after i am gone.', '  for i am shamed by that which i bring forth,', '  and so should you, to love things nothing worth.', \"  this thou perceiv'st, which makes thy love more strong,\", '  to love that well, which thou must leave ere long.', '  the worth of that, is that which it contains,', '  and that is this, and this with thee remains.', '  thus do i pine and surfeit day by day,', '  or gluttoning on all, or all away.', '  for as the sun is daily new and old,', '  so is my love still telling what is told.', '  these offices, so oft as thou wilt look,', '  shall profit thee, and much enrich thy book.', '  but thou art all my art, and dost advance', '  as high as learning, my rude ignorance.', '  then thank him not for that which he doth say,', '  since what he owes thee, thou thy self dost pay.', '  then if he thrive and i be cast away,', '  the worst was this, my love was my decay.', '  you still shall live (such virtue hath my pen)', '  where breath most breathes, even in the mouths of men.', '  and their gross painting might be better used,', '  where cheeks need blood, in thee it is abused.', '  there lives more life in one of your fair eyes,', '  than both your poets can in praise devise.', '  you to your beauteous blessings add a curse,', '  being fond on praise, which makes your praises worse.', '  then others, for the breath of words respect,', '  me for my dumb thoughts, speaking in effect.', '  but when your countenance filled up his line,', '  then lacked i matter, that enfeebled mine.', '  thus have i had thee as a dream doth flatter,', '  in sleep a king, but waking no such matter.', '  such is my love, to thee i so belong,', '  that for thy right, my self will bear all wrong.', \"  for thee, against my self i'll vow debate,\", \"  for i must ne'er love him whom thou dost hate.\", '  and other strains of woe, which now seem woe,', '  compared with loss of thee, will not seem so.', '  wretched in this alone, that thou mayst take,', '  all this away, and me most wretched make.', \"  but what's so blessed-fair that fears no blot?\", '  thou mayst be false, and yet i know it not.', \"  how like eve's apple doth thy beauty grow,\", '  if thy sweet virtue answer not thy show.', '  for sweetest things turn sourest by their deeds,', '  lilies that fester, smell far worse than weeds.', '  take heed (dear heart) of this large privilege,', '  the hardest knife ill-used doth lose his edge.', '  but do not so, i love thee in such sort,', '  as thou being mine, mine is thy good report.', \"  or if they sing, 'tis with so dull a cheer,\", \"  that leaves look pale, dreading the winter's near.\", '  yet seemed it winter still, and you away,', '  as with your shadow i with these did play.', '  more flowers i noted, yet i none could see,', \"  but sweet, or colour it had stol'n from thee.\", '  give my love fame faster than time wastes life,', \"  so thou prevent'st his scythe, and crooked knife.\", '  then do thy office muse, i teach thee how,', '  to make him seem long hence, as he shows now.', '  therefore like her, i sometime hold my tongue:', '  because i would not dull you with my song.', '  and more, much more than in my verse can sit,', '  your own glass shows you, when you look in it.', '  for fear of which, hear this thou age unbred,', \"  ere you were born was beauty's summer dead.\", '  fair, kind, and true, have often lived alone.', '  which three till now, never kept seat in one.', '  for we which now behold these present days,', '  have eyes to wonder, but lack tongues to praise.', '  and thou in this shalt find thy monument,', \"  when tyrants' crests and tombs of brass are spent.\", '  finding the first conceit of love there bred,', '  where time and outward form would show it dead.', '  for nothing this wide universe i call,', '  save thou my rose, in it thou art my all.', '  then give me welcome, next my heaven the best,', '  even to thy pure and most most loving breast.', '  pity me then dear friend, and i assure ye,', '  even that your pity is enough to cure me.', '  you are so strongly in my purpose bred,', '  that all the world besides methinks are dead.', '  incapable of more, replete with you,', '  my most true mind thus maketh mine untrue.', \"  if it be poisoned, 'tis the lesser sin,\", '  that mine eye loves it and doth first begin.', '  love is a babe, then might i not say so', '  to give full growth to that which still doth grow.', '  if this be error and upon me proved,', '  i never writ, nor no man ever loved.', '  since my appeal says i did strive to prove', '  the constancy and virtue of your love.', '  but thence i learn and find the lesson true,', '  drugs poison him that so feil sick of you.', '  so i return rebuked to my content,', '  and gain by ills thrice more than i have spent.', '  but that your trespass now becomes a fee,', '  mine ransoms yours, and yours must ransom me.', '  unless this general evil they maintain,', '  all men are bad and in their badness reign.', '  to keep an adjunct to remember thee', '  were to import forgetfulness in me.', '  this i do vow and this shall ever be,', '  i will be true despite thy scythe and thee.', '  to this i witness call the fools of time,', '  which die for goodness, who have lived for crime.', '  hence, thou suborned informer, a true soul', '  when most impeached, stands least in thy control.', '  her audit (though delayed) answered must be,', '  and her quietus is to render thee.', '  yet so they mourn becoming of their woe,', '  that every tongue says beauty should look so.', '  since saucy jacks so happy are in this,', '  give them thy fingers, me thy lips to kiss.', '  all this the world well knows yet none knows well,', '  to shun the heaven that leads men to this hell.', '  and yet by heaven i think my love as rare,', '  as any she belied with false compare.', '  in nothing art thou black save in thy deeds,', '  and thence this slander as i think proceeds.', '  then will i swear beauty herself is black,', '  and all they foul that thy complexion lack.', '  and yet thou wilt, for i being pent in thee,', '  perforce am thine and all that is in me.', '  him have i lost, thou hast both him and me,', '  he pays the whole, and yet am i not free.', '  let no unkind, no fair beseechers kill,', \"  think all but one, and me in that one 'will.'\", '  make but my name thy love, and love that still,', \"  and then thou lov'st me for my name is will.\", '  in things right true my heart and eyes have erred,', '  and to this false plague are they now transferred.', '  therefore i lie with her, and she with me,', '  and in our faults by lies we flattered be.', '  yet do not so, but since i am near slain,', '  kill me outright with looks, and rid my pain.', '  that i may not be so, nor thou belied,', '  bear thine eyes straight, though thy proud heart go wide.', '  only my plague thus far i count my gain,', '  that she that makes me sin, awards me pain.', '  if thou dost seek to have what thou dost hide,', '  by self-example mayst thou be denied.', '  so will i pray that thou mayst have thy will,', '  if thou turn back and my loud crying still.', \"  yet this shall i ne'er know but live in doubt,\", '  till my bad angel fire my good one out.', \"  'i hate', from hate away she threw,\", \"  and saved my life saying 'not you'.\", '  so shall thou feed on death, that feeds on men,', \"  and death once dead, there's no more dying then.\", '  for i have sworn thee fair, and thought thee bright,', '  who art as black as hell, as dark as night.', \"  o cunning love, with tears thou keep'st me blind,\", '  lest eyes well-seeing thy foul faults should find.', '  but love hate on for now i know thy mind,', \"  those that can see thou lov'st, and i am blind.\", '  if thy unworthiness raised love in me,', '  more worthy i to be beloved of thee.', '  no want of conscience hold it that i call,', '  her love, for whose dear love i rise and fall.', '  for i have sworn thee fair: more perjured i,', '  to swear against the truth so foul a be.', '  but found no cure, the bath for my help lies,', \"  where cupid got new fire; my mistress' eyes.\", '  came there for cure and this by that i prove,', \"  love's fire heats water, water cools not love.\"]\n"
     ]
    }
   ],
   "source": [
    "# remove numbers denoting each sonnet\n",
    "# remove capitalization\n",
    "# each sequence shall be one line in the sonnet\n",
    "data = text.splitlines()\n",
    "i = 0\n",
    "while i < len(data):\n",
    "    data[i] = data[i].lower()\n",
    "    if any(j.isdigit() for j in data[i]) or data[i] == '':\n",
    "        data.remove(data[i])\n",
    "        i -= 1\n",
    "    i += 1\n",
    "\n",
    "token_quat = []\n",
    "token_coup = []\n",
    "quat_ind = 0\n",
    "coup_ind = 0\n",
    "for i in range(len(data)):\n",
    "    if data[i][0] == ' ':\n",
    "#         print('yes')\n",
    "        token_coup.append(data[i])\n",
    "        coup_ind += 1  \n",
    "    else:\n",
    "        token_quat.append(data[i])\n",
    "        quat_ind += 1          \n"
   ]
  },
  {
   "cell_type": "code",
   "execution_count": null,
   "metadata": {},
   "outputs": [],
   "source": [
    "import hmmlearn.hmm as hmm\n"
   ]
  }
 ],
 "metadata": {
  "kernelspec": {
   "display_name": "Python 3",
   "language": "python",
   "name": "python3"
  },
  "language_info": {
   "codemirror_mode": {
    "name": "ipython",
    "version": 3
   },
   "file_extension": ".py",
   "mimetype": "text/x-python",
   "name": "python",
   "nbconvert_exporter": "python",
   "pygments_lexer": "ipython3",
   "version": "3.7.4"
  }
 },
 "nbformat": 4,
 "nbformat_minor": 2
}
