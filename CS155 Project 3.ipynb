{
 "cells": [
  {
   "cell_type": "code",
   "execution_count": 1,
   "metadata": {},
   "outputs": [],
   "source": [
    "import os\n",
    "import numpy as np\n",
    "from IPython.display import HTML\n",
    "import string\n",
    "import nltk\n",
    "import re\n",
    "import random\n",
    "\n",
    "from nltk.stem import WordNetLemmatizer \n",
    "from nltk.tokenize import word_tokenize \n",
    "from nltk.tokenize import TweetTokenizer\n",
    "\n",
    "from HMM import unsupervised_HMM\n",
    "from HMM_helper import (\n",
    "    text_to_wordcloud,\n",
    "    states_to_wordclouds,\n",
    "    parse_observations,\n",
    "    obs_map_reverser,\n",
    "    sample_sentence,\n",
    "    sample_sentence_backwards,\n",
    "    visualize_sparsities,\n",
    "    animate_emission\n",
    ")"
   ]
  },
  {
   "cell_type": "markdown",
   "metadata": {},
   "source": [
    "# Download Data"
   ]
  },
  {
   "cell_type": "code",
   "execution_count": 2,
   "metadata": {},
   "outputs": [
    {
     "name": "stderr",
     "output_type": "stream",
     "text": [
      "[nltk_data] Downloading package wordnet to\n",
      "[nltk_data]     C:\\Users\\shawn\\AppData\\Roaming\\nltk_data...\n",
      "[nltk_data]   Package wordnet is already up-to-date!\n",
      "[nltk_data] Downloading package punkt to\n",
      "[nltk_data]     C:\\Users\\shawn\\AppData\\Roaming\\nltk_data...\n",
      "[nltk_data]   Package punkt is already up-to-date!\n"
     ]
    },
    {
     "data": {
      "text/plain": [
       "True"
      ]
     },
     "execution_count": 2,
     "metadata": {},
     "output_type": "execute_result"
    }
   ],
   "source": [
    "nltk.download('wordnet') \n",
    "nltk.download('punkt')"
   ]
  },
  {
   "cell_type": "code",
   "execution_count": 3,
   "metadata": {},
   "outputs": [],
   "source": [
    "text = open(os.path.join(os.getcwd(), 'data/shakespeare.txt')).read()"
   ]
  },
  {
   "cell_type": "code",
   "execution_count": 4,
   "metadata": {},
   "outputs": [],
   "source": [
    "# syllable dictionary\n",
    "# format the syllable dictionary\n",
    "syll_dict = open(os.path.join(os.getcwd(), 'data/Syllable_dictionary.txt')).read()\n",
    "syll_dict = syll_dict.splitlines()\n",
    "syll_dict2 = []\n",
    "for i in range(len(syll_dict)):\n",
    "    syll_dict2.append(syll_dict[i].split())\n",
    "syll_dict = syll_dict2"
   ]
  },
  {
   "cell_type": "markdown",
   "metadata": {},
   "source": [
    "# Pre-processing"
   ]
  },
  {
   "cell_type": "markdown",
   "metadata": {},
   "source": [
    "## Create obs and obs_map"
   ]
  },
  {
   "cell_type": "code",
   "execution_count": 5,
   "metadata": {},
   "outputs": [],
   "source": [
    "# remove numbers denoting each sonnet\n",
    "# remove capitalization\n",
    "# remove apostrophes that are suffixes to a word, not part of the word\n",
    "\n",
    "def text_lowercase(text): \n",
    "    return text.lower() \n",
    "\n",
    "def remove_numbers(text): \n",
    "    result = re.sub(r'\\d+', '', text) \n",
    "    return result \n",
    "\n",
    "def remove_punctuation(text): \n",
    "    punctuation_set = ':' + ';' + ',' + '.' + '!' + '?' + '(' + ')'\n",
    "    translator = str.maketrans('', '', punctuation_set)\n",
    "    return text.translate(translator).replace(\"' \", \" \")\n",
    "\n",
    "lemmatizer = WordNetLemmatizer() \n",
    "tknzr = TweetTokenizer()\n",
    "def lemmatize_word(text): \n",
    "    word_tokens = tknzr.tokenize(text) \n",
    "    # provide context i.e. part-of-speech \n",
    "    lemmas = [lemmatizer.lemmatize(word, pos ='v') for word in word_tokens] \n",
    "    return lemmas \n",
    "\n",
    "def parse_observations(text):\n",
    "    # Convert text to dataset.\n",
    "    lines = [line.split() for line in text.split('\\n') if line.split()]\n",
    "\n",
    "    obs_counter = 0\n",
    "    obs = []\n",
    "    obs_map = {}\n",
    "\n",
    "    # convert text to integers\n",
    "    for line in lines:\n",
    "        obs_elem = []\n",
    "        \n",
    "        for word in line:\n",
    "            if word not in obs_map:\n",
    "                # Add unique words to the observations map.\n",
    "                obs_map[word] = obs_counter\n",
    "                obs_counter += 1\n",
    "            \n",
    "            # Add the encoded word.\n",
    "            obs_elem.append(obs_map[word])\n",
    "        \n",
    "        # Add the encoded sequence.\n",
    "        obs.append(obs_elem)\n",
    "\n",
    "    return obs, obs_map\n",
    "\n",
    "# create new tokenized data and observation mapping\n",
    "obs, obs_map = parse_observations(text_lowercase(remove_punctuation(remove_numbers(text))))"
   ]
  },
  {
   "cell_type": "markdown",
   "metadata": {},
   "source": [
    "## Create Rhyming Dictionary"
   ]
  },
  {
   "cell_type": "code",
   "execution_count": 24,
   "metadata": {},
   "outputs": [],
   "source": [
    "# read in data and remove blank lines\n",
    "data = text.splitlines()\n",
    "data = [string for string in data if string != \"\"]\n",
    "poems = []\n",
    "poem = []\n",
    "\n",
    "# remove sonnet numbers and append each poem to list poems\n",
    "for line in data:\n",
    "    stripped = line.strip()\n",
    "    if stripped.isdigit():\n",
    "        if stripped != '1':\n",
    "            poems.append(poem)\n",
    "            poem = []\n",
    "    else:\n",
    "        poem.append(remove_punctuation(stripped))\n",
    "\n",
    "# append final poem\n",
    "poems.append(poem)\n",
    "\n",
    "# remove poems that are not exactly 14 lines long\n",
    "i = 1\n",
    "for p in poems:\n",
    "    i+=1\n",
    "    if len(p) != 14:\n",
    "        poems.remove(p)\n",
    "\n",
    "# create rhyming dictionary, where each key is a word that was the last in a line,\n",
    "# and the values are all the words that Shakespeare used to rhyme with the key word.\n",
    "rhyme_dict = {}\n",
    "for poem in poems:\n",
    "    for i, line in enumerate(poem):\n",
    "        # rhyme scheme is abab cdcd efef gg\n",
    "        if i == 0 or i == 1 or i == 4 or i == 5 or i == 8 or i == 9:\n",
    "            # look at last words of each line\n",
    "            word1 = poem[i].split(' ')[-1]\n",
    "            word2 = poem[i+2].split(' ')[-1]\n",
    "            # add rhyming words to dictionary\n",
    "            if word1 in rhyme_dict:\n",
    "                if not word2 in rhyme_dict[word1]:\n",
    "                    rhyme_dict[word1].append(word2)\n",
    "            else:\n",
    "                rhyme_dict[word1] = [word2]\n",
    "                \n",
    "            # add words in opposite order too\n",
    "            if word2 in rhyme_dict:\n",
    "                if not word1 in rhyme_dict[word2]:\n",
    "                    rhyme_dict[word2].append(word1)\n",
    "            else:\n",
    "                rhyme_dict[word2] = [word1]\n",
    "        elif i == 12:\n",
    "            # look at last words of each line\n",
    "            word1 = poem[i].split(' ')[-1]\n",
    "            word2 = poem[i+1].split(' ')[-1]\n",
    "            \n",
    "            # add rhyming words to dictionary\n",
    "            if word1 in rhyme_dict:\n",
    "                if not word2 in rhyme_dict[word1]:\n",
    "                    rhyme_dict[word1].append(word2)\n",
    "            else:\n",
    "                rhyme_dict[word1] = [word2]\n",
    "            \n",
    "            # add words in opposite order too\n",
    "            if word2 in rhyme_dict:\n",
    "                if not word1 in rhyme_dict[word2]:\n",
    "                    rhyme_dict[word2].append(word1)\n",
    "            else:\n",
    "                rhyme_dict[word2] = [word1]"
   ]
  },
  {
   "cell_type": "markdown",
   "metadata": {},
   "source": [
    "# Training"
   ]
  },
  {
   "cell_type": "code",
   "execution_count": 7,
   "metadata": {
    "scrolled": true
   },
   "outputs": [
    {
     "name": "stdout",
     "output_type": "stream",
     "text": [
      "0\n",
      "1\n",
      "2\n",
      "3\n",
      "4\n",
      "5\n",
      "6\n",
      "7\n",
      "8\n",
      "9\n"
     ]
    }
   ],
   "source": [
    "hmm10 = unsupervised_HMM(obs, 5, 10)"
   ]
  },
  {
   "cell_type": "markdown",
   "metadata": {},
   "source": [
    "# Naive HMM Generation"
   ]
  },
  {
   "cell_type": "code",
   "execution_count": 8,
   "metadata": {},
   "outputs": [
    {
     "name": "stdout",
     "output_type": "stream",
     "text": [
      "His from whose but lead men very touches\n",
      "Numbers virtue hath me sorrow my than with\n",
      "That great do have one of thou weary\n",
      "Up nature's good to shines hour praise kings\n",
      "Of the her true just if no i\n",
      "That to admit not revenge all glass must\n",
      "Stay doth and not sword for seem bending\n",
      "Unthrift face them one give heart your hand\n",
      "Never warm or then the then to wilt\n",
      "To blindness thy light sweets 'twixt nimble have\n",
      "Making constant crime their and sun's stars hath\n",
      "Though fight of thy possession beauty's all worth\n",
      "Painting unless your upon brand lets making of\n",
      "Hours upon his thine both senses thy despite\n"
     ]
    }
   ],
   "source": [
    "# generate 14 line sonnet naively with trained HMM\n",
    "for i in range(14):\n",
    "    # use 8 words per line as an average\n",
    "    sentence = sample_sentence(hmm10, obs_map, 8)[0:-3]\n",
    "    print(sentence)"
   ]
  },
  {
   "cell_type": "markdown",
   "metadata": {},
   "source": [
    "## Generate sonnets with 10 syllables per line"
   ]
  },
  {
   "cell_type": "code",
   "execution_count": 9,
   "metadata": {
    "scrolled": true
   },
   "outputs": [
    {
     "name": "stdout",
     "output_type": "stream",
     "text": [
      "Art him of forbear things heart art to my \n",
      "And my thy to i first full do ear know \n",
      "Learn where with spite and some love my i field \n",
      "For dun love this you merit of to is \n",
      "More vouchsafe of figured with dross loss his \n",
      "Art nor one it your songs thy every and \n",
      "Within those confess striving settled let \n",
      "Thee thee boot thee they makeless quietus \n",
      "I anew in kill enrich sweet be due \n",
      "Heart away lover loved the were shall of \n",
      "Let most thus whom if against best sweet'st hides \n",
      "Debarred up not behaviour my verse place \n",
      "Present are although lord in imperfect \n",
      "Her no thy on stewards canker to it \n",
      "\n"
     ]
    }
   ],
   "source": [
    "syllables = 0\n",
    "i = 0\n",
    "num_lines = 0\n",
    "poem = ''\n",
    "add_last_syll = 0\n",
    "\n",
    "while num_lines < 14: # ensure it's 14 lines in total\n",
    "    # generate 10 words cuz 10 syllables/line. might not use all 10 words\n",
    "    string = sample_sentence(hmm10, obs_map, n_words=10)[0:-3].lower() \n",
    "    syllables = 0\n",
    "    i = 0\n",
    "    line = ''\n",
    "    add_last_syll = 0\n",
    "    \n",
    "    # generates one line\n",
    "    while syllables < 10:\n",
    "        word = string.split()[i]\n",
    "        index = [i[0] for i in syll_dict].index(word)\n",
    "        add_syll = int(syll_dict[index][-1])\n",
    "        # special case for last word. ref. to syllable_dictionary.txt\n",
    "        if np.shape(syll_dict[index]) == 3:\n",
    "            add_last_syll = int(syll_dict[index].split()[1][1][1])\n",
    "        # if last word is a special case\n",
    "        if syllables + add_last_syll == 10:\n",
    "            line += word\n",
    "            syllables += add_last_syll\n",
    "        # normal cases\n",
    "        elif syllables + add_syll <= 10:\n",
    "            line += word + ' '\n",
    "            syllables += add_syll\n",
    "            add_last_syll = 0\n",
    "        # no. of syllables of last word would cause line to exceed 10 syllables. redo the whole line.\n",
    "        else: \n",
    "            string = sample_sentence(hmm10, obs_map, n_words=10)[0:-3].lower() # regenerate string\n",
    "            syllables = 0\n",
    "            i = -1\n",
    "            line = ''\n",
    "            add_last_syll = 0\n",
    "        i += 1\n",
    "    num_lines += 1\n",
    "    poem += line.capitalize() + \"\\n\"\n",
    "print(poem)\n"
   ]
  },
  {
   "cell_type": "markdown",
   "metadata": {},
   "source": [
    "## Generate sonnets that follow rhyming scheme"
   ]
  },
  {
   "cell_type": "code",
   "execution_count": 10,
   "metadata": {},
   "outputs": [
    {
     "name": "stdout",
     "output_type": "stream",
     "text": [
      "Evil sing unfair gilding the on praise\n",
      "Prayers to very erred dearth then bereft\n",
      "Interest story swear all of should days\n",
      "Familiar motion over-partial to flattery say left\n",
      "Sworn and state have in this possessing\n",
      "Thee placed part against the then report\n",
      "Of since thee cries that wink releasing\n",
      "So from builded sum hours not sort\n",
      "Never offices when to thou the flattery\n",
      "In to were ambush they things betray\n",
      "Peep weep my but and an alchemy\n",
      "Time's like to i say on away\n",
      "Shadows age thou for thy a they\n",
      "Could my loving i to both say\n"
     ]
    }
   ],
   "source": [
    "poem = []\n",
    "for i in range(14):\n",
    "    poem.append('')\n",
    "\n",
    "# generate 14 lined sonnet\n",
    "for i in range(14):\n",
    "    # seed lines with random rhyming word\n",
    "    rand = random.randint(0,len(rhyme_dict)-1)\n",
    "    word1 = list(rhyme_dict.keys())[rand]\n",
    "    words = rhyme_dict[word1]\n",
    "    word2 = words[random.randint(0,len(words)-1)]\n",
    "\n",
    "    ind1 = obs_map[word1.lower()]\n",
    "    ind2 = obs_map[word2.lower()]\n",
    "    # generate 8 words backwards, seeding with the rhyming words\n",
    "    line = sample_sentence_backwards(hmm10, obs_map, 7, ind1)[0:-3]\n",
    "    line2 = sample_sentence_backwards(hmm10, obs_map, 7, ind2)[0:-3]\n",
    "    if i == 0 or i == 1 or i == 4 or i == 5 or i == 8 or i == 9:\n",
    "        poem[i] = line\n",
    "        poem[i+2] = line2\n",
    "    if i == 12:\n",
    "        poem[i] = line\n",
    "        poem[i+1] = line2\n",
    "\n",
    "for l in poem: \n",
    "    print(l)"
   ]
  },
  {
   "cell_type": "markdown",
   "metadata": {},
   "source": [
    "## Generate sonnets that follow rhyming scheme and have 10 syllables per line"
   ]
  },
  {
   "cell_type": "code",
   "execution_count": 20,
   "metadata": {},
   "outputs": [
    {
     "name": "stdout",
     "output_type": "stream",
     "text": [
      "Bareness party live obsequious heaven\n",
      "Are assemble more doth engraft my grief\n",
      "Lived blot thoughts looking doth blood men even\n",
      "For groans live now deserving youth eased thief\n",
      "Spirit crown now shouldst most if and or grow'st\n",
      "Fresh be i such world-without-end hear her\n",
      "Speaking teach princes philomel they ow'st\n",
      "My as shall happy of self fair love her\n",
      "Matter lest as guilt seen away rolling\n",
      "True praise do stay mine my have saith grew you\n",
      "Of bent heaven certain to controlling\n",
      "Or that and virtue this all finger true\n",
      "Will with external would it sake mine night\n",
      "See in live hied of quite grieve write delight\n"
     ]
    }
   ],
   "source": [
    "syllables = 0\n",
    "i = 0\n",
    "num_lines = 0\n",
    "poem = []\n",
    "for j in range(14):\n",
    "    poem.append('')\n",
    "add_last_syll = 0\n",
    "\n",
    "for k in range(14):\n",
    "    # seed lines with random rhyming words\n",
    "    rand = random.randint(0,len(rhyme_dict)-1)\n",
    "    word1 = list(rhyme_dict.keys())[rand]\n",
    "    words = rhyme_dict[word1]\n",
    "    word2 = words[random.randint(0,len(words)-1)]\n",
    "    ind1 = obs_map[word1.lower()]\n",
    "    ind2 = obs_map[word2.lower()]\n",
    "    \n",
    "    # generate reversed sentences so rhyming word doesn't get truncated\n",
    "    # generate line for rhyming word 1\n",
    "    string = sample_sentence_backwards(hmm10, obs_map, n_words=10, start_state=ind1)[0:-3].lower()\n",
    "    string = ' '.join(string.split()[::-1])\n",
    "    syllables = 0\n",
    "    i = 0\n",
    "    line = ''\n",
    "    add_last_syll = 0\n",
    "    # generates one line\n",
    "    while syllables < 10:\n",
    "        word = string.split()[i]\n",
    "        index = [i[0] for i in syll_dict].index(word)\n",
    "        add_syll = int(syll_dict[index][-1])\n",
    "        if np.shape(syll_dict[index]) == 3: # special case for last word\n",
    "            add_last_syll = int(syll_dict[index].split()[1][1][1])\n",
    "        \n",
    "        if syllables + add_last_syll == 10:\n",
    "            line += word\n",
    "            syllables += add_last_syll\n",
    "        elif syllables + add_syll <= 10:\n",
    "            line += word + ' '\n",
    "            syllables += add_syll\n",
    "            add_last_syll = 0\n",
    "        else: # regenerate string\n",
    "            string = sample_sentence_backwards(hmm10, obs_map, n_words=10, start_state=ind1)[0:-3].lower()\n",
    "            string = ' '.join(string.split()[::-1])\n",
    "            syllables = 0\n",
    "            i = -1\n",
    "            line = ''\n",
    "            add_last_syll = 0\n",
    "        i += 1\n",
    "    \n",
    "    # generate line for rhyming word 2\n",
    "    string2 = sample_sentence_backwards(hmm10, obs_map, n_words=10, start_state=ind2)[0:-3].lower()\n",
    "    string2 = ' '.join(string2.split()[::-1])\n",
    "    syllables = 0\n",
    "    i = 0\n",
    "    line2 = ''\n",
    "    add_last_syll = 0\n",
    "    # generates one line\n",
    "    while syllables < 10:\n",
    "        word = string2.split()[i]\n",
    "        index = [i[0] for i in syll_dict].index(word)\n",
    "        add_syll = int(syll_dict[index][-1])\n",
    "        if np.shape(syll_dict[index]) == 3: # special case for last word\n",
    "            add_last_syll = int(syll_dict[index].split()[1][1][1])\n",
    "        \n",
    "        if syllables + add_last_syll == 10:\n",
    "            line2 += word\n",
    "            syllables += add_last_syll\n",
    "        elif syllables + add_syll <= 10:\n",
    "            line2 += word + ' '\n",
    "            syllables += add_syll\n",
    "            add_last_syll = 0\n",
    "        else: # regenerate string\n",
    "            string2 = sample_sentence_backwards(hmm10, obs_map, n_words=10, start_state=ind2)[0:-3].lower()\n",
    "            string2 = ' '.join(string2.split()[::-1])\n",
    "            syllables = 0\n",
    "            i = -1\n",
    "            line2 = ''\n",
    "            add_last_syll = 0\n",
    "        i += 1\n",
    "\n",
    "    # reverse lines so that rhyming words are at the end\n",
    "    line = ' '.join(line.split()[::-1])\n",
    "    line2 = ' '.join(line2.split()[::-1])\n",
    "    \n",
    "    # append lines to follow correct rhyme scheme\n",
    "    if k == 0 or k == 1 or k == 4 or k == 5 or k == 8 or k == 9:\n",
    "        poem[k] = line.capitalize()\n",
    "        poem[k+2] = line2.capitalize()\n",
    "    if k == 12:\n",
    "        poem[k] = line.capitalize()\n",
    "        poem[k+1] = line2.capitalize()\n",
    "        \n",
    "    num_lines += 1\n",
    "\n",
    "for l in poem: \n",
    "    print(l)"
   ]
  },
  {
   "cell_type": "markdown",
   "metadata": {},
   "source": [
    "## Generate Haiku"
   ]
  },
  {
   "cell_type": "code",
   "execution_count": 21,
   "metadata": {},
   "outputs": [
    {
     "name": "stdout",
     "output_type": "stream",
     "text": [
      "With wood old where in \n",
      "O mine she but wet prove thy \n",
      "All use loan spent seat \n",
      "\n"
     ]
    }
   ],
   "source": [
    "syllables = 0\n",
    "i = 0\n",
    "num_lines = 0\n",
    "poem = ''\n",
    "add_last_syll = 0\n",
    "\n",
    "# generate only 3 lines, with 5, 7, 5 syllables, respectively\n",
    "while num_lines < 3:\n",
    "    string = sample_sentence(hmm10, obs_map, n_words=10)[0:-3].lower()\n",
    "    syllables = 0\n",
    "    i = 0\n",
    "    line = ''\n",
    "    add_last_syll = 0\n",
    "    num_syll = 5\n",
    "    if num_lines == 1:\n",
    "        num_syll = 7\n",
    "    # generates one line\n",
    "    while syllables < num_syll:\n",
    "        word = string.split()[i]\n",
    "        index = [i[0] for i in syll_dict].index(word)\n",
    "        add_syll = int(syll_dict[index][-1])\n",
    "        if np.shape(syll_dict[index]) == 3: # special case for last word\n",
    "            add_last_syll = int(syll_dict[index].split()[1][1][1])\n",
    "        \n",
    "        if syllables + add_last_syll == num_syll:\n",
    "            line += word\n",
    "            syllables += add_last_syll\n",
    "        elif syllables + add_syll <= num_syll:\n",
    "            line += word + ' '\n",
    "            syllables += add_syll\n",
    "            add_last_syll = 0\n",
    "        else: # regenerate string\n",
    "            string = sample_sentence(hmm10, obs_map, n_words=10)[0:-3].lower()\n",
    "            syllables = 0\n",
    "            i = -1\n",
    "            line = ''\n",
    "            add_last_syll = 0\n",
    "        i += 1\n",
    "    num_lines += 1\n",
    "    poem += line.capitalize() + \"\\n\"\n",
    "print(poem)"
   ]
  },
  {
   "cell_type": "markdown",
   "metadata": {},
   "source": [
    "# Create visualizations of transition and observation matrices"
   ]
  },
  {
   "cell_type": "code",
   "execution_count": 22,
   "metadata": {},
   "outputs": [
    {
     "data": {
      "image/png": "[encoded data removed]",
      "text/plain": [
       "<Figure size 432x288 with 2 Axes>"
      ]
     },
     "metadata": {
      "needs_background": "light"
     },
     "output_type": "display_data"
    },
    {
     "data": {
      "image/png": "[encoded data removed]",
      "text/plain": [
       "<Figure size 432x288 with 2 Axes>"
      ]
     },
     "metadata": {
      "needs_background": "light"
     },
     "output_type": "display_data"
    },
    {
     "name": "stdout",
     "output_type": "stream",
     "text": [
      "For state  0 , the most popular words are:  ['and', 'be', 'on', 'i', 'that', 'with', 'so', 'are', 'thou', 'me']\n",
      "For state  1 , the most popular words are:  ['to', 'and', 'thy', 'but', 'which', 'it', 'a', 'of', 'my', 'is']\n",
      "For state  2 , the most popular words are:  ['of', 'my', 'i', 'the', 'that', 'love', 'your', 'in', 'with', 'thy']\n",
      "For state  3 , the most popular words are:  ['thou', 'in', 'thy', 'my', 'i', 'to', 'not', 'this', 'a', 'thee']\n",
      "For state  4 , the most popular words are:  ['the', 'and', 'for', 'that', 'but', 'when', 'as', 'so', 'o', 'then']\n"
     ]
    }
   ],
   "source": [
    "\n",
    "visualize_sparsities(hmm10,len(hmm10.O[0]),0.005)\n",
    "obs_map_r = obs_map_reverser(obs_map)\n",
    "for i in range(len(hmm10.O)):\n",
    "    row = hmm10.O[i]\n",
    "    ordered = np.argsort(row)[::-1][0:10]\n",
    "    words = []\n",
    "    for j in ordered:\n",
    "        max_word = obs_map_r[j]\n",
    "        words.append(max_word)\n",
    "    print('For state ', i, ', the most popular words are: ', words)"
   ]
  },
  {
   "cell_type": "markdown",
   "metadata": {},
   "source": [
    "Generate sonnets (with rhyme, 10 syllables per line)\n",
    "for the 1st 12 lines, every alternate line rhymes with each other, and the last 2 lines rhyme"
   ]
  },
  {
   "cell_type": "code",
   "execution_count": 8,
   "metadata": {
    "scrolled": true
   },
   "outputs": [
    {
     "name": "stdout",
     "output_type": "stream",
     "text": [
      "{'cluj', 'piaget', 'zepa', 'waye', 'stray', 'raye', 'mcgray', 'whey', 'lyonnais', 'waga', 'cia', 'repay', 'away', 're', 'lait', 'liberte', 'mccrea', 'hevey', 'mcray', 'underpay', 'sergei', 'brey', 'cama', 'ray', 'pray', 'beaupre', 'mcshea', 'fe', 'faberge', 'nay', 'hwe', 'dray', 'jonbenet', 'nej', 'mulvey', 'abbe', 'spey', 'bouquet', 'crochet', 'sochet', \"o'shea\", 'jay', 'j.', 'rene', 'slay', 'bay', 'moutray', 'shea', 'dey', 'mcclay', 'portray', 'flay', 'quay', 'yay', 'fray', 'kley', 'millay', 'banpais', 'maye', 'deseret', 'mei', 'spray', 'mccay', 'pinochet', 'toray', 'nisei', 'smay', 'cafe', 'puree', 'bombay', 'vadnais', 'roget', 'dossier', 'palais', 'prepay', 'hooray', 'stay', 'perrier', 'sevey', 'stupay', 'hay', 'shay', 'hongwei', 'faraway', 'schey', 'b-j', 'ay', 'hefei', 'shinsei', \"'kay\", 'wray', 'usa', 'buffet', 'morais', 'rae', 'mcnay', 'ha', 'servais', 'macknay', 'kamei', 'brae', 'lurvey', 'torme', 'frey', 'sta', 'paye', 'saye', 'benet', 'lihue', 'replay', 'blay', 'sleigh', 'leyh', 'redisplay', 'cea', 'jna', 'buga', 'betray', 'bta', 'day', 'papier-mache', 'schley', 'noaa', 'mcgarvey', 'underplay', 'beauvais', 'mcquay', \"o'day\", 'levey', 'kkk', 'che', 'dunlavey', 'daye', 'disobey', 'jaquay', 'porcher', 'underway', 'lei', 'clay', 'meservey', 'souffle', 'moray', 'de', 'coday', 'soiree', 'haigh', 'khe', 'oj', 'hiaa', 'foia', 'ira', 'sze', 'decay', 'renee', 'filet', 'play', 'tre', 'ne', 'graye', 'sway', 'mcveigh', 'zalay', 'hurray', 'dk', 'tay', 'jaye', 'maltais', 'cray', 'orsay', 'haye', 'reay', 'bernay', 'survey', 'snay', 'macrae', 'allais', 'may', 'fey', \"c'est\", 'kay', 'gervais', 'today', 'mey', 'monterrey', 'san-jose', 'ek', 'trey', 'cache', 'monterey', 'carre', 'imlay', 'maclay', 'dovey', 'bayh', 'gway', 'purvey', 'vey', 'tae', 'cliche', 'disarray', 'ae', 'klay', 'dumais', 'k', 'mcvey', 'jose', 'asay', 'jae', 'overstay', 'obey', 'ekk', 'bouvier', 'one-way', 'a.', 'chevrolet', 'intraday', 'ley', 'okay', 'faye', 'la-carre', 'bley', 'communique', 'rey', 'j', 'display', 'mackay', 'delray', 'boulais', 'ita', 'fiance', 'weigh', 'jacquet', 'monet', 'turvey', 'aggrey', 'rea', 'passe', 'wei', 'strey', 'toupee', 'ole', 'prey', 'aka', 'langlais', 'manet', 'gay', 'ney', 'touvier', 'ciskei', 'essay', \"d'orsay\", 'drey', 'mccray', 'donais', 'tray', 'dorais', 'mcrae', 'chalet', 'guay', 'kaye', 'mcvay', 'fay', 'they', 'bey', 'yea', 'pay', 'marais', 'halfway', 'nihei', 'valet', 'marquai', 'astray', 'delay', 'dae', 'yakutakay', 'naivete', 'societe', 'dak', 'mobay', 'way', 'bray', 'wy', 'oshea', 'ilhae', 'allay', 'hey', 'krey', 'laye', 'mcbay', 'sorbet', 'dekay', 'ballet', 'a', 'sinay', 'wey', 'callais', 'mae', 'array', 'wah-pei', 'bouygues', 'bua', 'mccrae', 'quai', 'cabaret', 'voisey', 'calais', 'olay', \"o'dea\", 'da', 'cay', 'dupay', 'gerais', 'lay', 'mclay', 'ca', 'per-se', 'aigner', 'asea', 'parquet', 'gaye', \"b'nai\", 'dna', 'antigay', 'resnais', 'croquet', 'una', 'overplay', 'cabernet', 'say', 'cathay', 'calvey', 'cabriolet', 'francais', 'kray', 'mckay', 'ga', 'ceta', 'convey', 'k.', 'grey', 'defray', 'pei', 'santa-fe', 'se', 'dismay', 'seay', 'risque', 'hervey', 'nikkei', 'compusa', 'saute', 'quaye', 'gray', 'ok', 'jouret', 'aday', 'attache', \"l'espalier\", 'aaa', 'devey', 'galle', 'fillet', 'pevey', 'les', 'everyday', 'nissei', 'uva', 'baye', 'sachet', 'anway', 'gai', 'boulay', 'oday', 'mcstay'}\n"
     ]
    }
   ],
   "source": [
    "# rhyme dictionary https://stackoverflow.com/questions/25714531/find-rhyme-using-nltk-in-python\n",
    "import nltk\n",
    "# nltk.download('cmudict')\n",
    "def rhyme(inp, level):\n",
    "    entries = nltk.corpus.cmudict.entries()\n",
    "    syllables2 = [(word, syl) for word, syl in entries if word == inp]\n",
    "    rhymes = []\n",
    "    for (word, syllable) in syllables2:\n",
    "        rhymes += [word for word, pron in entries if pron[-level:] == syllable[-level:]]\n",
    "    return set(rhymes)\n",
    "def doTheyRhyme(word1, word2):\n",
    "  # first, we don't want to report 'glue' and 'unglue' as rhyming words\n",
    "  # those kind of rhymes are LAME\n",
    "    if word1.find(word2) == len(word1) - len(word2):\n",
    "        return False\n",
    "    if word2.find(word1) == len(word2) - len(word1): \n",
    "        return False\n",
    "\n",
    "    return word1 in rhyme(word2, 1)\n",
    "print(rhyme('may',1))\n"
   ]
  },
  {
   "cell_type": "code",
   "execution_count": 10,
   "metadata": {},
   "outputs": [
    {
     "data": {
      "text/plain": [
       "446"
      ]
     },
     "execution_count": 10,
     "metadata": {},
     "output_type": "execute_result"
    }
   ],
   "source": [
    "obs_map.get('may')\n",
    "# sample_sentence_backwards(hmm10, obs_map, 10, 23)[0:-3].lower()"
   ]
  },
  {
   "cell_type": "code",
   "execution_count": null,
   "metadata": {},
   "outputs": [],
   "source": [
    "sample_sentence(hmm10, obs_map, n_words=10)[0:-3].lower()\n"
   ]
  },
  {
   "cell_type": "code",
   "execution_count": null,
   "metadata": {},
   "outputs": [],
   "source": [
    "def generate_line(num_words)\n",
    "    string = sample_sentence(hmm10, obs_map, n_words=num_words)[0:-3].lower()\n",
    "    syllables = 0\n",
    "    i = 0\n",
    "    line = ''\n",
    "    add_last_syll = 0\n",
    "    while syllables < num_words:\n",
    "        word = string.split()[i]\n",
    "        index = [i[0] for i in syll_dict].index(word)\n",
    "        add_syll = int(syll_dict[index][-1])\n",
    "        if np.shape(syll_dict[index]) == 3: # special case for last word\n",
    "            add_last_syll = int(syll_dict[index].split()[1][1][1])\n",
    "        \n",
    "        if syllables + add_last_syll == 10:\n",
    "            line += word\n",
    "            syllables += add_last_syll\n",
    "        elif syllables + add_syll <= 10:\n",
    "            line += word + ' '\n",
    "            syllables += add_syll\n",
    "            add_last_syll = 0\n",
    "        else: # regenerate string\n",
    "            string = sample_sentence(hmm10, obs_map, n_words=10)[0:-3].lower()\n",
    "            syllables = 0\n",
    "            i = -1\n",
    "            line = ''\n",
    "            add_last_syll = 0\n",
    "            print('restart')\n",
    "        i += 1\n",
    "    return line\n",
    "\n",
    "syllables = 0\n",
    "i = 0\n",
    "num_lines = 0\n",
    "poem = ''\n",
    "add_last_syll = 0\n",
    "# string = sample_sentence(hmm10, obs_map, n_words=10)[0:-3].lower() + ' ' \n",
    "# each line is unlikely to have >10 words\n",
    "# print(string)\n",
    "\n",
    "while num_lines < 14:\n",
    "    if num_lines == 0:\n",
    "        string = sample_sentence(hmm10, obs_map, n_words=10)[0:-3].lower()"
   ]
  }
 ],
 "metadata": {
  "kernelspec": {
   "display_name": "Python 3",
   "language": "python",
   "name": "python3"
  },
  "language_info": {
   "codemirror_mode": {
    "name": "ipython",
    "version": 3
   },
   "file_extension": ".py",
   "mimetype": "text/x-python",
   "name": "python",
   "nbconvert_exporter": "python",
   "pygments_lexer": "ipython3",
   "version": "3.7.4"
  }
 },
 "nbformat": 4,
 "nbformat_minor": 2
}
